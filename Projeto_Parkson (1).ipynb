{
 "cells": [
  {
   "cell_type": "code",
   "execution_count": 1,
   "metadata": {},
   "outputs": [],
   "source": [
    "%matplotlib inline"
   ]
  },
  {
   "cell_type": "code",
   "execution_count": 29,
   "metadata": {},
   "outputs": [],
   "source": [
    "import numpy as np\n",
    "import matplotlib.pyplot as plt\n",
    "from sklearn.preprocessing import MinMaxScaler"
   ]
  },
  {
   "cell_type": "code",
   "execution_count": 3,
   "metadata": {},
   "outputs": [],
   "source": [
    "data = np.loadtxt('parkinsons.data.txt', dtype='<U7', skiprows=1, usecols=0)"
   ]
  },
  {
   "cell_type": "code",
   "execution_count": 6,
   "metadata": {},
   "outputs": [
    {
     "name": "stdout",
     "output_type": "stream",
     "text": [
      "23\n"
     ]
    }
   ],
   "source": [
    "t= [119.99200,157.30200,74.99700,0.00784,0.00007,0.00370,0.00554,0.01109,0.04374,0.42600,0.02182,0.03130,0.02971,0.06545,0.02211,21.03300,1,0.414783,0.815285,-4.813031,0.266482,2.301442,0.284654]\n",
    "print(len(t))"
   ]
  },
  {
   "cell_type": "code",
   "execution_count": 7,
   "metadata": {},
   "outputs": [
    {
     "name": "stdout",
     "output_type": "stream",
     "text": [
      "(195, 23)\n"
     ]
    }
   ],
   "source": [
    "qt_col=23\n",
    "filename = 'parkinsons.data.txt'\n",
    "\n",
    "data = np.loadtxt(filename, delimiter = \",\", skiprows=1, usecols=np.arange(1, qt_col+1))\n",
    "names = np.loadtxt(filename, dtype='<U7',skiprows=1,usecols=0)\n",
    "#print(data)\n",
    "print(data.shape)"
   ]
  },
  {
   "cell_type": "code",
   "execution_count": 8,
   "metadata": {},
   "outputs": [
    {
     "name": "stdout",
     "output_type": "stream",
     "text": [
      "(195, 23)\n"
     ]
    }
   ],
   "source": [
    "print(data.shape)"
   ]
  },
  {
   "cell_type": "code",
   "execution_count": 9,
   "metadata": {},
   "outputs": [],
   "source": [
    "status=['MDVP:Fo(Hz)','MDVP:Fhi(Hz)','MDVP:Flo(Hz)','MDVP:Jitter(%)','MDVP:Jitter(Abs)',\n",
    "        'MDVP:RAP','MDVP:PPQ','Jitter:DDP','MDVP:Shimmer','MDVP:Shimmer(d)',\n",
    "        'Shimmer:APQ3','Shimmer:APQ5','MDVP:APQ','Shimmer:DDA',\n",
    "        'NHR','HNR','status','RPDE','DFA','spread1','spread2','D2','PPE']"
   ]
  },
  {
   "cell_type": "code",
   "execution_count": 11,
   "metadata": {},
   "outputs": [],
   "source": [
    "#df = pd.read_csv(filename)"
   ]
  },
  {
   "cell_type": "code",
   "execution_count": 28,
   "metadata": {},
   "outputs": [
    {
     "data": {
      "text/html": [
       "<div>\n",
       "<style scoped>\n",
       "    .dataframe tbody tr th:only-of-type {\n",
       "        vertical-align: middle;\n",
       "    }\n",
       "\n",
       "    .dataframe tbody tr th {\n",
       "        vertical-align: top;\n",
       "    }\n",
       "\n",
       "    .dataframe thead th {\n",
       "        text-align: right;\n",
       "    }\n",
       "</style>\n",
       "<table border=\"1\" class=\"dataframe\">\n",
       "  <thead>\n",
       "    <tr style=\"text-align: right;\">\n",
       "      <th></th>\n",
       "      <th>name</th>\n",
       "      <th>MDVP:Fo(Hz)</th>\n",
       "      <th>MDVP:Fhi(Hz)</th>\n",
       "      <th>MDVP:Flo(Hz)</th>\n",
       "      <th>MDVP:Jitter(%)</th>\n",
       "      <th>MDVP:Jitter(Abs)</th>\n",
       "      <th>MDVP:RAP</th>\n",
       "      <th>MDVP:PPQ</th>\n",
       "      <th>Jitter:DDP</th>\n",
       "      <th>MDVP:Shimmer</th>\n",
       "      <th>...</th>\n",
       "      <th>Shimmer:DDA</th>\n",
       "      <th>NHR</th>\n",
       "      <th>HNR</th>\n",
       "      <th>status</th>\n",
       "      <th>RPDE</th>\n",
       "      <th>DFA</th>\n",
       "      <th>spread1</th>\n",
       "      <th>spread2</th>\n",
       "      <th>D2</th>\n",
       "      <th>PPE</th>\n",
       "    </tr>\n",
       "  </thead>\n",
       "  <tbody>\n",
       "    <tr>\n",
       "      <th>0</th>\n",
       "      <td>phon_R01_S01_1</td>\n",
       "      <td>119.992</td>\n",
       "      <td>157.302</td>\n",
       "      <td>74.997</td>\n",
       "      <td>0.00784</td>\n",
       "      <td>0.00007</td>\n",
       "      <td>0.00370</td>\n",
       "      <td>0.00554</td>\n",
       "      <td>0.01109</td>\n",
       "      <td>0.04374</td>\n",
       "      <td>...</td>\n",
       "      <td>0.06545</td>\n",
       "      <td>0.02211</td>\n",
       "      <td>21.033</td>\n",
       "      <td>1</td>\n",
       "      <td>0.414783</td>\n",
       "      <td>0.815285</td>\n",
       "      <td>-4.813031</td>\n",
       "      <td>0.266482</td>\n",
       "      <td>2.301442</td>\n",
       "      <td>0.284654</td>\n",
       "    </tr>\n",
       "    <tr>\n",
       "      <th>1</th>\n",
       "      <td>phon_R01_S01_2</td>\n",
       "      <td>122.400</td>\n",
       "      <td>148.650</td>\n",
       "      <td>113.819</td>\n",
       "      <td>0.00968</td>\n",
       "      <td>0.00008</td>\n",
       "      <td>0.00465</td>\n",
       "      <td>0.00696</td>\n",
       "      <td>0.01394</td>\n",
       "      <td>0.06134</td>\n",
       "      <td>...</td>\n",
       "      <td>0.09403</td>\n",
       "      <td>0.01929</td>\n",
       "      <td>19.085</td>\n",
       "      <td>1</td>\n",
       "      <td>0.458359</td>\n",
       "      <td>0.819521</td>\n",
       "      <td>-4.075192</td>\n",
       "      <td>0.335590</td>\n",
       "      <td>2.486855</td>\n",
       "      <td>0.368674</td>\n",
       "    </tr>\n",
       "    <tr>\n",
       "      <th>2</th>\n",
       "      <td>phon_R01_S01_3</td>\n",
       "      <td>116.682</td>\n",
       "      <td>131.111</td>\n",
       "      <td>111.555</td>\n",
       "      <td>0.01050</td>\n",
       "      <td>0.00009</td>\n",
       "      <td>0.00544</td>\n",
       "      <td>0.00781</td>\n",
       "      <td>0.01633</td>\n",
       "      <td>0.05233</td>\n",
       "      <td>...</td>\n",
       "      <td>0.08270</td>\n",
       "      <td>0.01309</td>\n",
       "      <td>20.651</td>\n",
       "      <td>1</td>\n",
       "      <td>0.429895</td>\n",
       "      <td>0.825288</td>\n",
       "      <td>-4.443179</td>\n",
       "      <td>0.311173</td>\n",
       "      <td>2.342259</td>\n",
       "      <td>0.332634</td>\n",
       "    </tr>\n",
       "    <tr>\n",
       "      <th>3</th>\n",
       "      <td>phon_R01_S01_4</td>\n",
       "      <td>116.676</td>\n",
       "      <td>137.871</td>\n",
       "      <td>111.366</td>\n",
       "      <td>0.00997</td>\n",
       "      <td>0.00009</td>\n",
       "      <td>0.00502</td>\n",
       "      <td>0.00698</td>\n",
       "      <td>0.01505</td>\n",
       "      <td>0.05492</td>\n",
       "      <td>...</td>\n",
       "      <td>0.08771</td>\n",
       "      <td>0.01353</td>\n",
       "      <td>20.644</td>\n",
       "      <td>1</td>\n",
       "      <td>0.434969</td>\n",
       "      <td>0.819235</td>\n",
       "      <td>-4.117501</td>\n",
       "      <td>0.334147</td>\n",
       "      <td>2.405554</td>\n",
       "      <td>0.368975</td>\n",
       "    </tr>\n",
       "    <tr>\n",
       "      <th>4</th>\n",
       "      <td>phon_R01_S01_5</td>\n",
       "      <td>116.014</td>\n",
       "      <td>141.781</td>\n",
       "      <td>110.655</td>\n",
       "      <td>0.01284</td>\n",
       "      <td>0.00011</td>\n",
       "      <td>0.00655</td>\n",
       "      <td>0.00908</td>\n",
       "      <td>0.01966</td>\n",
       "      <td>0.06425</td>\n",
       "      <td>...</td>\n",
       "      <td>0.10470</td>\n",
       "      <td>0.01767</td>\n",
       "      <td>19.649</td>\n",
       "      <td>1</td>\n",
       "      <td>0.417356</td>\n",
       "      <td>0.823484</td>\n",
       "      <td>-3.747787</td>\n",
       "      <td>0.234513</td>\n",
       "      <td>2.332180</td>\n",
       "      <td>0.410335</td>\n",
       "    </tr>\n",
       "    <tr>\n",
       "      <th>...</th>\n",
       "      <td>...</td>\n",
       "      <td>...</td>\n",
       "      <td>...</td>\n",
       "      <td>...</td>\n",
       "      <td>...</td>\n",
       "      <td>...</td>\n",
       "      <td>...</td>\n",
       "      <td>...</td>\n",
       "      <td>...</td>\n",
       "      <td>...</td>\n",
       "      <td>...</td>\n",
       "      <td>...</td>\n",
       "      <td>...</td>\n",
       "      <td>...</td>\n",
       "      <td>...</td>\n",
       "      <td>...</td>\n",
       "      <td>...</td>\n",
       "      <td>...</td>\n",
       "      <td>...</td>\n",
       "      <td>...</td>\n",
       "      <td>...</td>\n",
       "    </tr>\n",
       "    <tr>\n",
       "      <th>190</th>\n",
       "      <td>phon_R01_S50_2</td>\n",
       "      <td>174.188</td>\n",
       "      <td>230.978</td>\n",
       "      <td>94.261</td>\n",
       "      <td>0.00459</td>\n",
       "      <td>0.00003</td>\n",
       "      <td>0.00263</td>\n",
       "      <td>0.00259</td>\n",
       "      <td>0.00790</td>\n",
       "      <td>0.04087</td>\n",
       "      <td>...</td>\n",
       "      <td>0.07008</td>\n",
       "      <td>0.02764</td>\n",
       "      <td>19.517</td>\n",
       "      <td>0</td>\n",
       "      <td>0.448439</td>\n",
       "      <td>0.657899</td>\n",
       "      <td>-6.538586</td>\n",
       "      <td>0.121952</td>\n",
       "      <td>2.657476</td>\n",
       "      <td>0.133050</td>\n",
       "    </tr>\n",
       "    <tr>\n",
       "      <th>191</th>\n",
       "      <td>phon_R01_S50_3</td>\n",
       "      <td>209.516</td>\n",
       "      <td>253.017</td>\n",
       "      <td>89.488</td>\n",
       "      <td>0.00564</td>\n",
       "      <td>0.00003</td>\n",
       "      <td>0.00331</td>\n",
       "      <td>0.00292</td>\n",
       "      <td>0.00994</td>\n",
       "      <td>0.02751</td>\n",
       "      <td>...</td>\n",
       "      <td>0.04812</td>\n",
       "      <td>0.01810</td>\n",
       "      <td>19.147</td>\n",
       "      <td>0</td>\n",
       "      <td>0.431674</td>\n",
       "      <td>0.683244</td>\n",
       "      <td>-6.195325</td>\n",
       "      <td>0.129303</td>\n",
       "      <td>2.784312</td>\n",
       "      <td>0.168895</td>\n",
       "    </tr>\n",
       "    <tr>\n",
       "      <th>192</th>\n",
       "      <td>phon_R01_S50_4</td>\n",
       "      <td>174.688</td>\n",
       "      <td>240.005</td>\n",
       "      <td>74.287</td>\n",
       "      <td>0.01360</td>\n",
       "      <td>0.00008</td>\n",
       "      <td>0.00624</td>\n",
       "      <td>0.00564</td>\n",
       "      <td>0.01873</td>\n",
       "      <td>0.02308</td>\n",
       "      <td>...</td>\n",
       "      <td>0.03804</td>\n",
       "      <td>0.10715</td>\n",
       "      <td>17.883</td>\n",
       "      <td>0</td>\n",
       "      <td>0.407567</td>\n",
       "      <td>0.655683</td>\n",
       "      <td>-6.787197</td>\n",
       "      <td>0.158453</td>\n",
       "      <td>2.679772</td>\n",
       "      <td>0.131728</td>\n",
       "    </tr>\n",
       "    <tr>\n",
       "      <th>193</th>\n",
       "      <td>phon_R01_S50_5</td>\n",
       "      <td>198.764</td>\n",
       "      <td>396.961</td>\n",
       "      <td>74.904</td>\n",
       "      <td>0.00740</td>\n",
       "      <td>0.00004</td>\n",
       "      <td>0.00370</td>\n",
       "      <td>0.00390</td>\n",
       "      <td>0.01109</td>\n",
       "      <td>0.02296</td>\n",
       "      <td>...</td>\n",
       "      <td>0.03794</td>\n",
       "      <td>0.07223</td>\n",
       "      <td>19.020</td>\n",
       "      <td>0</td>\n",
       "      <td>0.451221</td>\n",
       "      <td>0.643956</td>\n",
       "      <td>-6.744577</td>\n",
       "      <td>0.207454</td>\n",
       "      <td>2.138608</td>\n",
       "      <td>0.123306</td>\n",
       "    </tr>\n",
       "    <tr>\n",
       "      <th>194</th>\n",
       "      <td>phon_R01_S50_6</td>\n",
       "      <td>214.289</td>\n",
       "      <td>260.277</td>\n",
       "      <td>77.973</td>\n",
       "      <td>0.00567</td>\n",
       "      <td>0.00003</td>\n",
       "      <td>0.00295</td>\n",
       "      <td>0.00317</td>\n",
       "      <td>0.00885</td>\n",
       "      <td>0.01884</td>\n",
       "      <td>...</td>\n",
       "      <td>0.03078</td>\n",
       "      <td>0.04398</td>\n",
       "      <td>21.209</td>\n",
       "      <td>0</td>\n",
       "      <td>0.462803</td>\n",
       "      <td>0.664357</td>\n",
       "      <td>-5.724056</td>\n",
       "      <td>0.190667</td>\n",
       "      <td>2.555477</td>\n",
       "      <td>0.148569</td>\n",
       "    </tr>\n",
       "  </tbody>\n",
       "</table>\n",
       "<p>195 rows × 24 columns</p>\n",
       "</div>"
      ],
      "text/plain": [
       "               name  MDVP:Fo(Hz)  MDVP:Fhi(Hz)  MDVP:Flo(Hz)  MDVP:Jitter(%)  \\\n",
       "0    phon_R01_S01_1      119.992       157.302        74.997         0.00784   \n",
       "1    phon_R01_S01_2      122.400       148.650       113.819         0.00968   \n",
       "2    phon_R01_S01_3      116.682       131.111       111.555         0.01050   \n",
       "3    phon_R01_S01_4      116.676       137.871       111.366         0.00997   \n",
       "4    phon_R01_S01_5      116.014       141.781       110.655         0.01284   \n",
       "..              ...          ...           ...           ...             ...   \n",
       "190  phon_R01_S50_2      174.188       230.978        94.261         0.00459   \n",
       "191  phon_R01_S50_3      209.516       253.017        89.488         0.00564   \n",
       "192  phon_R01_S50_4      174.688       240.005        74.287         0.01360   \n",
       "193  phon_R01_S50_5      198.764       396.961        74.904         0.00740   \n",
       "194  phon_R01_S50_6      214.289       260.277        77.973         0.00567   \n",
       "\n",
       "     MDVP:Jitter(Abs)  MDVP:RAP  MDVP:PPQ  Jitter:DDP  MDVP:Shimmer  ...  \\\n",
       "0             0.00007   0.00370   0.00554     0.01109       0.04374  ...   \n",
       "1             0.00008   0.00465   0.00696     0.01394       0.06134  ...   \n",
       "2             0.00009   0.00544   0.00781     0.01633       0.05233  ...   \n",
       "3             0.00009   0.00502   0.00698     0.01505       0.05492  ...   \n",
       "4             0.00011   0.00655   0.00908     0.01966       0.06425  ...   \n",
       "..                ...       ...       ...         ...           ...  ...   \n",
       "190           0.00003   0.00263   0.00259     0.00790       0.04087  ...   \n",
       "191           0.00003   0.00331   0.00292     0.00994       0.02751  ...   \n",
       "192           0.00008   0.00624   0.00564     0.01873       0.02308  ...   \n",
       "193           0.00004   0.00370   0.00390     0.01109       0.02296  ...   \n",
       "194           0.00003   0.00295   0.00317     0.00885       0.01884  ...   \n",
       "\n",
       "     Shimmer:DDA      NHR     HNR  status      RPDE       DFA   spread1  \\\n",
       "0        0.06545  0.02211  21.033       1  0.414783  0.815285 -4.813031   \n",
       "1        0.09403  0.01929  19.085       1  0.458359  0.819521 -4.075192   \n",
       "2        0.08270  0.01309  20.651       1  0.429895  0.825288 -4.443179   \n",
       "3        0.08771  0.01353  20.644       1  0.434969  0.819235 -4.117501   \n",
       "4        0.10470  0.01767  19.649       1  0.417356  0.823484 -3.747787   \n",
       "..           ...      ...     ...     ...       ...       ...       ...   \n",
       "190      0.07008  0.02764  19.517       0  0.448439  0.657899 -6.538586   \n",
       "191      0.04812  0.01810  19.147       0  0.431674  0.683244 -6.195325   \n",
       "192      0.03804  0.10715  17.883       0  0.407567  0.655683 -6.787197   \n",
       "193      0.03794  0.07223  19.020       0  0.451221  0.643956 -6.744577   \n",
       "194      0.03078  0.04398  21.209       0  0.462803  0.664357 -5.724056   \n",
       "\n",
       "      spread2        D2       PPE  \n",
       "0    0.266482  2.301442  0.284654  \n",
       "1    0.335590  2.486855  0.368674  \n",
       "2    0.311173  2.342259  0.332634  \n",
       "3    0.334147  2.405554  0.368975  \n",
       "4    0.234513  2.332180  0.410335  \n",
       "..        ...       ...       ...  \n",
       "190  0.121952  2.657476  0.133050  \n",
       "191  0.129303  2.784312  0.168895  \n",
       "192  0.158453  2.679772  0.131728  \n",
       "193  0.207454  2.138608  0.123306  \n",
       "194  0.190667  2.555477  0.148569  \n",
       "\n",
       "[195 rows x 24 columns]"
      ]
     },
     "execution_count": 28,
     "metadata": {},
     "output_type": "execute_result"
    }
   ],
   "source": [
    "df"
   ]
  },
  {
   "cell_type": "markdown",
   "metadata": {},
   "source": [
    "<b>Q1.</b> Utilize suas habilidades em Python para obter a quantidade de gravacoes de indivıduos com e sem doenca de Parkinson."
   ]
  },
  {
   "cell_type": "code",
   "execution_count": 6,
   "metadata": {},
   "outputs": [],
   "source": [
    "#print(data[:,-7]==1)"
   ]
  },
  {
   "cell_type": "code",
   "execution_count": 12,
   "metadata": {},
   "outputs": [
    {
     "name": "stdout",
     "output_type": "stream",
     "text": [
      "Indivíduos com Parkson: 147\n",
      "Indivíduos sem Parkson: 48\n",
      "Total de Indivíduos   : 195\n"
     ]
    }
   ],
   "source": [
    "comP = 0 \n",
    "semP = 0\n",
    "\n",
    "for j in range(data.shape[0]):\n",
    "    #print('entrei')\n",
    "    i = data[j,-7]\n",
    "    if i == 1:\n",
    "        comP += 1\n",
    "    if i == 0:\n",
    "        semP += 1\n",
    "N = int(comP)+int(semP)\n",
    "print('Indivíduos com Parkson: {:}'.format(comP))\n",
    "print('Indivíduos sem Parkson: {:}'.format(semP))\n",
    "print('Total de Indivíduos   : {:}'.format(N))"
   ]
  },
  {
   "cell_type": "markdown",
   "metadata": {},
   "source": [
    "<b>Q2.</b> Avalie o desempenho do kNN para 5 valores diferentes de k. Para cada valor de k, obtenha a media da taxa de acerto para 10 execucoes. Cada execucao dever ́a ser realizada com os dados aleatorizados (utilize numpy.random.shuffle()). Utilize 80% dos dados para treino e 20% para teste. Mostre os resultados num grafico, onde o eixo x  ́e o valor de k, e o y  ́e a taxa de acerto. "
   ]
  },
  {
   "cell_type": "code",
   "execution_count": 13,
   "metadata": {},
   "outputs": [],
   "source": [
    "from sklearn.neighbors import KNeighborsClassifier"
   ]
  },
  {
   "cell_type": "code",
   "execution_count": 14,
   "metadata": {},
   "outputs": [
    {
     "name": "stdout",
     "output_type": "stream",
     "text": [
      "195\n",
      "(195, 23)\n",
      "195\n"
     ]
    }
   ],
   "source": [
    "print(N)\n",
    "print(data.shape)\n",
    "NTreino = int(N*.8)\n",
    "NTeste = int(N*.2)\n",
    "print(NTreino+NTeste)"
   ]
  },
  {
   "cell_type": "code",
   "execution_count": 15,
   "metadata": {},
   "outputs": [
    {
     "name": "stdout",
     "output_type": "stream",
     "text": [
      "(156, 23) (39, 23)\n",
      "(156, 22) (39, 22)\n",
      "(156,) (156, 22)\n"
     ]
    }
   ],
   "source": [
    "data_treino =  data[:NTreino,:]\n",
    "data_teste =  data[NTreino:,:]\n",
    "print(data_treino.shape, data_teste.shape)\n",
    "\n",
    "label_treino = data[:NTreino,-7]\n",
    "label_teste = data[NTreino:,-7]\n",
    "\n",
    "data_treino = np.delete(data_treino, -7, axis=1)\n",
    "data_teste = np.delete(data_teste, -7, axis=1)\n",
    "print(data_treino.shape, data_teste.shape)\n",
    "\n",
    "print(label_treino.shape,data_treino.shape)"
   ]
  },
  {
   "cell_type": "code",
   "execution_count": 16,
   "metadata": {},
   "outputs": [
    {
     "name": "stdout",
     "output_type": "stream",
     "text": [
      "132.0 15.0 147.0\n"
     ]
    }
   ],
   "source": [
    "print(sum(label_treino),sum(label_teste),sum(label_treino)+sum(label_teste))"
   ]
  },
  {
   "cell_type": "code",
   "execution_count": 17,
   "metadata": {},
   "outputs": [
    {
     "name": "stdout",
     "output_type": "stream",
     "text": [
      "Para n = 1: Taxa de acerto total: 0.487179\n",
      "Para n = 2: Taxa de acerto total: 0.487179\n",
      "Para n = 3: Taxa de acerto total: 0.487179\n",
      "Para n = 4: Taxa de acerto total: 0.487179\n"
     ]
    }
   ],
   "source": [
    "for n in range(1, 5):\n",
    "    nn = KNeighborsClassifier(n_neighbors=n)\n",
    "    nn.fit(data_treino, label_treino)\n",
    "    previsoes = nn.predict(data_teste)\n",
    "    acertos = 0\n",
    "    for i in range(len(previsoes)):\n",
    "        if previsoes[i] == label_teste[i]:\n",
    "            acertos += 1\n",
    "    #print(\"Para n = %d: \\n Taxa de acerto total: %f\" %(n, acertos/len(label_teste)))\n",
    "    print(\"Para n = %d: Taxa de acerto total: %f\" %(n, acertos/len(label_teste)))"
   ]
  },
  {
   "cell_type": "code",
   "execution_count": 18,
   "metadata": {},
   "outputs": [],
   "source": [
    "def KNN (k,data_treino,label_treino, data_teste,label_teste,taxa):\n",
    "\n",
    "    for n in range(1, k):\n",
    "        nn = KNeighborsClassifier(n_neighbors=n)\n",
    "        nn.fit(data_treino, label_treino)\n",
    "        previsoes = nn.predict(data_teste)\n",
    "        acertos = 0\n",
    "        for i in range(len(previsoes)):\n",
    "            if previsoes[i] == label_teste[i]:\n",
    "                acertos += 1\n",
    "        taxa[n-1].append(acertos/len(label_teste))\n",
    "        #print(\"Para n = %d: \\n Taxa de acerto total: %f\" %(n, acertos/len(label_teste)))\n",
    "        #print(\"Para n = %d: Taxa de acerto total: %f\" %(n, acertos/len(label_teste)))\n",
    "        #return(n,acertos/len(label_teste))\n",
    "    return (taxa)\n",
    "\n",
    "def limpar (data):\n",
    "    data_treino =  data[:NTreino,:]\n",
    "    data_teste =  data[NTreino:,:]\n",
    "    label_treino = data[:NTreino,-7]\n",
    "    label_teste = data[NTreino:,-7]\n",
    "    data_treino = np.delete(data_treino, -7, axis=1)\n",
    "    data_teste = np.delete(data_teste, -7, axis=1)\n",
    "    \n",
    "    return(data_treino,data_teste,label_treino,label_teste)\n",
    "\n",
    "def limparNN (data):\n",
    "    scaler = MinMaxScaler()\n",
    "    data=scaler.transform(data)\n",
    "    data_treino =  data[:NTreino,:]\n",
    "    data_teste =  data[NTreino:,:]\n",
    "    label_treino = data[:NTreino,-7]\n",
    "    label_teste = data[NTreino:,-7]\n",
    "    data_treino = np.delete(data_treino, -7, axis=1)\n",
    "    data_teste = np.delete(data_teste, -7, axis=1)\n",
    "    \n",
    "    return(data_treino,data_teste,label_treino,label_teste)\n",
    "\n"
   ]
  },
  {
   "cell_type": "code",
   "execution_count": 19,
   "metadata": {},
   "outputs": [
    {
     "name": "stdout",
     "output_type": "stream",
     "text": [
      "[[0.48717948717948717], [0.48717948717948717], [0.48717948717948717], [0.48717948717948717]]\n"
     ]
    }
   ],
   "source": [
    "taxa=[[],[],[],[]]\n",
    "k = 5\n",
    "\n",
    "All = KNN(k, data_treino,label_treino, data_teste,label_teste,taxa)\n",
    "\n",
    "print(All)\n"
   ]
  },
  {
   "cell_type": "code",
   "execution_count": 20,
   "metadata": {},
   "outputs": [
    {
     "data": {
      "text/plain": [
       "Text(0, 0.5, 'Taxa média de acerto')"
      ]
     },
     "execution_count": 20,
     "metadata": {},
     "output_type": "execute_result"
    },
    {
     "data": {
      "image/png": "[encoded data removed]",
      "text/plain": [
       "<Figure size 720x216 with 1 Axes>"
      ]
     },
     "metadata": {
      "needs_background": "light"
     },
     "output_type": "display_data"
    }
   ],
   "source": [
    "plt.rcParams[\"figure.figsize\"] = [10,3]\n",
    "plt.rcParams.update({'font.size': 12})\n",
    "\n",
    "taxa=[[],[],[],[]]\n",
    "k = 5\n",
    "\n",
    "for i in range(10):\n",
    "    np.random.shuffle(data)\n",
    "    [data_treino,data_teste,label_treino,label_teste]=limpar(data)\n",
    "    All = KNN(k, data_treino,label_treino, data_teste,label_teste,taxa)\n",
    "    \n",
    "\n",
    "for n in range(k-1):\n",
    "    #print(n)\n",
    "    #print('Para n = {:} Taxa média de acerto total: {:.4}'.format(n+1,np.mean(All[n])))\n",
    "    plt.plot(n+1,np.mean(All[n]),'ko')\n",
    "plt.title('Desempenho KNN para Parkinson')\n",
    "plt.xlabel('Valor de k')\n",
    "plt.ylabel('Taxa média de acerto')\n"
   ]
  },
  {
   "cell_type": "markdown",
   "metadata": {},
   "source": [
    "3. Repita o item acima, mas agora com os dados normalizados com o metodo minmax. Compare os resultados."
   ]
  },
  {
   "cell_type": "code",
   "execution_count": 30,
   "metadata": {},
   "outputs": [],
   "source": [
    "def limparNN (data):\n",
    "    scaler = MinMaxScaler()\n",
    "    scaler.fit(data)\n",
    "    data=scaler.transform(data)\n",
    "    #print(np.max(data))\n",
    "    data_treino =  data[:NTreino,:]\n",
    "    data_teste =  data[NTreino:,:]\n",
    "    label_treino = data[:NTreino,-7]\n",
    "    label_teste = data[NTreino:,-7]\n",
    "    data_treino = np.delete(data_treino, -7, axis=1)\n",
    "    data_teste = np.delete(data_teste, -7, axis=1)\n",
    "    \n",
    "    return(data_treino,data_teste,label_treino,label_teste)"
   ]
  },
  {
   "cell_type": "code",
   "execution_count": 34,
   "metadata": {},
   "outputs": [
    {
     "data": {
      "text/plain": [
       "Text(0, 0.5, 'Taxa média de acerto')"
      ]
     },
     "execution_count": 34,
     "metadata": {},
     "output_type": "execute_result"
    },
    {
     "data": {
      "image/png": "[encoded data removed]",
      "text/plain": [
       "<Figure size 720x216 with 1 Axes>"
      ]
     },
     "metadata": {
      "needs_background": "light"
     },
     "output_type": "display_data"
    }
   ],
   "source": [
    "plt.rcParams[\"figure.figsize\"] = [10,3]\n",
    "plt.rcParams.update({'font.size': 12})\n",
    "\n",
    "taxa=[[],[],[],[]]\n",
    "k = 5\n",
    "\n",
    "for i in range(10):\n",
    "    np.random.shuffle(data)\n",
    "    [data_treino,data_teste,label_treino,label_teste]=limparNN(data)\n",
    "    All = KNN(k, data_treino,label_treino, data_teste,label_teste,taxa)\n",
    "    \n",
    "\n",
    "for n in range(k-1):\n",
    "    #print(n)\n",
    "    #print('Para n = {:} Taxa média de acerto total: {:.4}'.format(n+1,np.mean(All[n])))\n",
    "    plt.plot(n+1,np.mean(All[n]),'ko')\n",
    "plt.title('Desempenho KNN para Parkinson')\n",
    "plt.xlabel('Valor de k')\n",
    "plt.ylabel('Taxa média de acerto')\n"
   ]
  },
  {
   "cell_type": "markdown",
   "metadata": {},
   "source": [
    "4. A partir dos dois itens acima, o que você conclui? Qual e o melhor k para a tarefa? Houve diferenca quanto à normalizacao?"
   ]
  },
  {
   "cell_type": "code",
   "execution_count": 35,
   "metadata": {},
   "outputs": [
    {
     "data": {
      "text/plain": [
       "Text(0, 0.5, 'Taxa média de acerto')"
      ]
     },
     "execution_count": 35,
     "metadata": {},
     "output_type": "execute_result"
    },
    {
     "data": {
      "image/png": "[encoded data removed]",
      "text/plain": [
       "<Figure size 720x216 with 1 Axes>"
      ]
     },
     "metadata": {
      "needs_background": "light"
     },
     "output_type": "display_data"
    }
   ],
   "source": [
    "plt.rcParams[\"figure.figsize\"] = [10,3]\n",
    "plt.rcParams.update({'font.size': 12})\n",
    "\n",
    "taxa=[[],[],[],[]]\n",
    "laxa=[[],[],[],[]]\n",
    "k = 5\n",
    "\n",
    "for i in range(10):\n",
    "    np.random.shuffle(data)\n",
    "    [data_treino,data_teste,label_treino,label_teste]=limpar(data)\n",
    "    [data_treinoNN,data_testeNN,label_treinoNN,label_testeNN]=limparNN(data)\n",
    "    \n",
    "    All = KNN(k, data_treino,label_treino, data_teste,label_teste,taxa)\n",
    "    Ell = KNN(k, data_treinoNN,label_treinoNN, data_testeNN,label_testeNN,laxa)\n",
    "\n",
    "for n in range(k-1):\n",
    "    plt.plot(n+1,np.mean(All[n]),'ko')\n",
    "    plt.plot(n+1,np.mean(All[n])+np.std(All[n]),'k_')\n",
    "    plt.plot(n+1,np.mean(All[n])-np.std(All[n]),'k_')\n",
    "    plt.plot(n+1,np.mean(Ell[n]),'ro')\n",
    "    plt.plot(n+1,np.mean(Ell[n])+np.std(All[n]),'r_')\n",
    "    plt.plot(n+1,np.mean(Ell[n])-np.std(All[n]),'r_')\n",
    "\n",
    "plt.plot(n+1,np.mean(Ell[n]),'ro',label='Normalizado')\n",
    "plt.legend(loc =\"best\")\n",
    "plt.title('Desempenho KNN para Parkinson')\n",
    "plt.xlabel('Valor de k')\n",
    "plt.ylabel('Taxa média de acerto')\n",
    "    \n"
   ]
  },
  {
   "cell_type": "code",
   "execution_count": 36,
   "metadata": {},
   "outputs": [
    {
     "data": {
      "image/png": "[encoded data removed]",
      "text/plain": [
       "<Figure size 720x216 with 1 Axes>"
      ]
     },
     "metadata": {
      "needs_background": "light"
     },
     "output_type": "display_data"
    }
   ],
   "source": [
    "plt.rcParams[\"figure.figsize\"] = [10,3]\n",
    "plt.rcParams.update({'font.size': 12})\n",
    "\n",
    "for n in range(k-1):\n",
    "    plt.plot(n+1,np.mean(All[n]),'ko')"
   ]
  },
  {
   "cell_type": "code",
   "execution_count": 23,
   "metadata": {},
   "outputs": [],
   "source": [
    "def KNN_MM (k,data_treino,label_treino, data_teste,label_teste,taxa):\n",
    "\n",
    "    for n in range(1, k):\n",
    "        nn = KNeighborsClassifier(n_neighbors=n)\n",
    "        \n",
    "        print(scaler.fit(data_treino))\n",
    "        nn.fit(data_treino, label_treino)\n",
    "        previsoes = nn.predict(data_teste)\n",
    "        acertos = 0\n",
    "        for i in range(len(previsoes)):\n",
    "            if previsoes[i] == label_teste[i]:\n",
    "                acertos += 1\n",
    "        taxa[n-1].append(acertos/len(label_teste))\n",
    "        #print(\"Para n = %d: \\n Taxa de acerto total: %f\" %(n, acertos/len(label_teste)))\n",
    "        #print(\"Para n = %d: Taxa de acerto total: %f\" %(n, acertos/len(label_teste)))\n",
    "        #return(n,acertos/len(label_teste))\n",
    "    return (taxa)"
   ]
  }
 ],
 "metadata": {
  "kernelspec": {
   "display_name": "Python 3",
   "language": "python",
   "name": "python3"
  },
  "language_info": {
   "codemirror_mode": {
    "name": "ipython",
    "version": 3
   },
   "file_extension": ".py",
   "mimetype": "text/x-python",
   "name": "python",
   "nbconvert_exporter": "python",
   "pygments_lexer": "ipython3",
   "version": "3.7.9"
  }
 },
 "nbformat": 4,
 "nbformat_minor": 2
}
